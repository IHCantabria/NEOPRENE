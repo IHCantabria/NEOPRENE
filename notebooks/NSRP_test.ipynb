{
 "cells": [
  {
   "cell_type": "markdown",
   "metadata": {},
   "source": [
    "# NEOPRENE notebooks\n",
    "\n",
    "***\n",
    "\n",
    "This notebook is part of a notebook collection available at the [NEOPRENE Project Site](https://github.com/IHCantabria/NEOPRENE) for illustration, reproducibility and reusability purposes. This notebook is licensed under the [Creative Commons Attribution 4.0 International License](http://creativecommons.org/licenses/by/4.0).\n",
    "\n",
    "![Creative Commons License >](https://i.creativecommons.org/l/by/4.0/88x31.png)"
   ]
  },
  {
   "cell_type": "markdown",
   "metadata": {},
   "source": [
    "## Calibrating and synthetic simulations of Rainfall with the NSRPM.\n",
    "\n",
    "In this script we calibrate the NSRPM (Neyman Scott Rectangular Pulse Model) using two rainfall series with different rainfall regimes: one with daily data located in the north of Spain (Bilbao), on a temperate climate (Cfb), and other with hourly data located in Sevilleta (New Mexico, USA), on a semi-arid climate (BSh-BSk). The calibration parameters are used to simulate several decades of synthetic rainfall data which can be very useful for rainfall extreme analysis or disaggregation purposes, among other applications.\n",
    "\n",
    "The script also contains:\n",
    "\n",
    "1. a validation section where the observed series are compared with the simulated ones in terms of their statistics and exceedance probabilities. \n",
    "\n",
    "2. a disaggregation function to disaggreate daily to hourly rainfall data.\n",
    "\n",
    "Please, be advised that some of the processes may take up to 5 minutes in a modern computer."
   ]
  },
  {
   "cell_type": "markdown",
   "metadata": {},
   "source": [
    "### Load packages"
   ]
  },
  {
   "cell_type": "code",
   "execution_count": null,
   "metadata": {
    "tags": []
   },
   "outputs": [],
   "source": [
    "import os\n",
    "import pandas as pd\n",
    "import numpy as np\n",
    "import matplotlib.pyplot as plt"
   ]
  },
  {
   "cell_type": "code",
   "execution_count": null,
   "metadata": {
    "tags": []
   },
   "outputs": [],
   "source": [
    "from NEOPRENE.NSRP.HiperParams import Calibration as Calhps, Simulation as Simhps\n",
    "from NEOPRENE.NSRP.Calibration import Calibration\n",
    "from NEOPRENE.NSRP.Statistics import Statistics\n",
    "from NEOPRENE.NSRP.Simulation import Simulation\n",
    "from NEOPRENE.NSRP.utils import compare_statistics, exceedence_probability, disaggregate_rainfall"
   ]
  },
  {
   "cell_type": "code",
   "execution_count": null,
   "metadata": {
    "tags": []
   },
   "outputs": [],
   "source": [
    "import warnings\n",
    "warnings.filterwarnings('ignore')"
   ]
  },
  {
   "cell_type": "markdown",
   "metadata": {},
   "source": [
    "## Example 1. Calibration and validation of daily data"
   ]
  },
  {
   "cell_type": "markdown",
   "metadata": {},
   "source": [
    "### Loading daily rainfall data for Bilbao"
   ]
  },
  {
   "cell_type": "code",
   "execution_count": null,
   "metadata": {
    "collapsed": false,
    "jupyter": {
     "outputs_hidden": false
    },
    "tags": []
   },
   "outputs": [],
   "source": [
    "Serie_Bilbao = pd.read_csv('auxiliary-materials/Bilbao_Daily.csv', sep=\";\", decimal=\".\", index_col=0, parse_dates=True)\n",
    "Serie_Bilbao[Serie_Bilbao.values<0] = np.nan\n",
    "Input_Serie = pd.DataFrame(index=Serie_Bilbao.index)\n",
    "Input_Serie['Rain'] = Serie_Bilbao.values"
   ]
  },
  {
   "cell_type": "markdown",
   "metadata": {},
   "source": [
    "### Plotting daily data and seasonality"
   ]
  },
  {
   "cell_type": "code",
   "execution_count": null,
   "metadata": {
    "tags": []
   },
   "outputs": [],
   "source": [
    "f, (ax0, ax1) = plt.subplots(1, 2, gridspec_kw={'width_ratios': [3, 1]}, figsize=(20, 5))\n",
    "\n",
    "t1=str(Input_Serie.index.year[0])\n",
    "t2=str(Input_Serie.index.year[-1])\n",
    "Input_Serie.plot(xlim=(t1, t2),  ylim=(0, 300), ax = ax0)\n",
    "ax0.grid(True)\n",
    "ax0.set_ylabel('mm/day')\n",
    "\n",
    "grouped_m = Input_Serie.groupby(lambda x: x.month)\n",
    "Month_sum = grouped_m.sum()*24/(len(Input_Serie>=0)/30)\n",
    "Month_sum.plot(ax = ax1)\n",
    "ax1.grid(True)\n",
    "ax1.set_ylabel('mm/month');"
   ]
  },
  {
   "cell_type": "markdown",
   "metadata": {},
   "source": [
    "### Calibration\n",
    "\n",
    "The calibration input file ([Input_Cal_Bilbao.yml](https://github.com/navass11/STNSRPM/blob/Javi/notebooks/Input_Cal_Bilbao.yml)) contains the hyperparameters to calibrate the model. This hyperparameters are loaded by the ```Calibration``` class within the ```NEOPRENE.NSRP.HiperParams``` module. In this notebook, the module is loaded as ```Calhps```.\n",
    "\n",
    "Input rainfall statistics can be directly calculated by the software from a time series or can be introduced from a file with the statistics (both options are shown in the present notebook).\n",
    "\n",
    "A description of the hyperparamters available in the calibration file ([Input_Cal_Bilbao.yml](https://github.com/navass11/STNSRPM/blob/Javi/notebooks/Input_Cal_Bilbao.yml)) can be found within the ```doc``` folder of the [project repository](https://github.com/IHCantabria/NEOPRENE)."
   ]
  },
  {
   "cell_type": "code",
   "execution_count": null,
   "metadata": {
    "tags": []
   },
   "outputs": [],
   "source": [
    "# Reading hiperparamteres for the calibration\n",
    "hiper_params_cal = Calhps('./Input_Cal_Bilbao.yml')"
   ]
  },
  {
   "cell_type": "markdown",
   "metadata": {},
   "source": [
    "The original time series statistics are computed first, as the model calibrates against those statistics. Once the statistics have been computed, the library does not need the complete time series anymore."
   ]
  },
  {
   "cell_type": "code",
   "execution_count": null,
   "metadata": {
    "tags": []
   },
   "outputs": [],
   "source": [
    "# Input statistics calculated from a Rainfall serie\n",
    "statistics_model_1 = Statistics(hiper_params_cal, time_series = Input_Serie)\n",
    "\n",
    "# Input statistics from file \n",
    "statistics_model_2 = Statistics(hiper_params_cal, file = 'auxiliary-materials/statististics_Bilbao.csv')"
   ]
  },
  {
   "cell_type": "markdown",
   "metadata": {},
   "source": [
    "The hyperparameters are passed to the Calibration class which return a calibrator object. This object can be used as a function, that receives the statistics that need to be reproduced by the model. The object can also save the calibrated parameters to disk for later use."
   ]
  },
  {
   "cell_type": "code",
   "execution_count": null,
   "metadata": {
    "scrolled": true,
    "tags": []
   },
   "outputs": [],
   "source": [
    "CAL              = Calibration(hiper_params_cal) \n",
    "CAL1             = CAL(statistics_model_1, verbose=False)\n",
    "#CAL2             = CAL(statistics_model_2, verbose=False)\n",
    "\n",
    "CAL1.save_files('./CAL1/')\n",
    "#CAL2.save_files('./CAL2/')"
   ]
  },
  {
   "cell_type": "markdown",
   "metadata": {},
   "source": [
    "### Simulation\n",
    "\n",
    "The input simulation file ([Input_Sim_Bilbao.yml](https://github.com/IHCantabria/NEOPRENE/notebooks/Input_Sim_Bilbao.yml)) contains the hypermarametes for rainfall simulation.\n",
    "\n",
    "A description of the hyperparamters available in the simulation file ([Input_Sim_Bilbao.yml](https://github.com/IHCantabria/NEOPRENE/notebooks/Input_Cal_Bilbao.yml)) can be found within the ```doc``` folder of the [project repository](https://github.com/IHCantabria/NEOPRENE).\n",
    "\n",
    "The first thing we do is to load the hyperparameters"
   ]
  },
  {
   "cell_type": "code",
   "execution_count": null,
   "metadata": {
    "tags": []
   },
   "outputs": [],
   "source": [
    "# Reading hiperparamteres for the simulation\n",
    "hiper_params_sim = Simhps('./Input_Sim_Bilbao.yml')"
   ]
  },
  {
   "cell_type": "markdown",
   "metadata": {},
   "source": [
    "And those hyperparameters are then used to configure the Simulation class, which return a Simulation object that is used in a very similar way to the Calibration object."
   ]
  },
  {
   "cell_type": "code",
   "execution_count": null,
   "metadata": {
    "tags": []
   },
   "outputs": [],
   "source": [
    "SIM              = Simulation(hiper_params_sim) \n",
    "\n",
    "# Input parameters from the model\n",
    "SIM1             = SIM(params_cal = CAL1)\n",
    "\n",
    "# Input parameters from a dataframe\n",
    "#SIM2             = SIM(params_cal = './CAL2/Calibrated_parameters.csv')\n",
    "\n",
    "SIM1.save_files('./SIM1/')\n",
    "#SIM2.save_files('./SIM2/')"
   ]
  },
  {
   "cell_type": "markdown",
   "metadata": {},
   "source": [
    "### Verification\n",
    "\n",
    "The curve of exceedence probabilities is shown to evaluate the quality of the fit of the simulations and the observations"
   ]
  },
  {
   "cell_type": "markdown",
   "metadata": {},
   "source": [
    "### Validation"
   ]
  },
  {
   "cell_type": "markdown",
   "metadata": {},
   "source": [
    "Another set of verification plots is generated where the value of different observed statistics (dashed line) is compared against the fitted statistics (blue squares), that is, the best values of the statistic that the optimal parameters were able to reproduce, and against the simulated statistics (red triangles), the values of the statistics that were obtained when simulating synthetic time series with the calibrated parameters.\n",
    "\n",
    "The model correctly reproduces those parameters for which it is calibrated. Those parameters that do not participate in the calibration procedure may exhibit a more erratic behavior, thus the differences between the calibrated and simulated values of the statistics."
   ]
  },
  {
   "cell_type": "code",
   "execution_count": null,
   "metadata": {
    "tags": []
   },
   "outputs": [],
   "source": [
    "# Comparing the values of the statistcs (observed, fitted and simulated).\n",
    "compare_statistics(CAL1, SIM1)"
   ]
  },
  {
   "cell_type": "markdown",
   "metadata": {},
   "source": [
    "## Example 2. Disaggregation of daily data to hourly data\n",
    "\n",
    "Disaggregation process might take some minutes to dissagregate several decades of data. Here we select only 5 year as an example"
   ]
  },
  {
   "cell_type": "code",
   "execution_count": null,
   "metadata": {},
   "outputs": [],
   "source": [
    "# Period selected from the input (onserved) serie\n",
    "year1 = 2000; year2 = 2005\n",
    "x_series = Input_Serie[(Input_Serie.index.year >= year1) & (Input_Serie.index.year < year2)]"
   ]
  },
  {
   "cell_type": "code",
   "execution_count": null,
   "metadata": {
    "tags": []
   },
   "outputs": [],
   "source": [
    "# Comparing exceedence Probability betwen Observed and Simulated series\n",
    "exceedence_probability(Input_Serie, SIM1.Daily_Simulation, SIM1.temporal_resolution)"
   ]
  },
  {
   "cell_type": "markdown",
   "metadata": {},
   "source": [
    "### Disaggregation (daily-to-hourly)\n",
    "\n",
    "Disaggregation process might take some minutes to dissagregate several decades of data. Here we select only 5 year as an example"
   ]
  },
  {
   "cell_type": "code",
   "execution_count": null,
   "metadata": {},
   "outputs": [],
   "source": [
    "# Period selected from the input (onserved) serie\n",
    "year1 = 2000; year2 = 2005\n",
    "x_series = Input_Serie[(Input_Serie.index.year >= year1) & (Input_Serie.index.year < year2)]"
   ]
  },
  {
   "cell_type": "code",
   "execution_count": null,
   "metadata": {
    "tags": []
   },
   "outputs": [],
   "source": [
    "# Defining hourly synthetic serie\n",
    "y_series = SIM1.Hourly_Simulation.copy()"
   ]
  },
  {
   "cell_type": "code",
   "execution_count": null,
   "metadata": {
    "tags": []
   },
   "outputs": [],
   "source": [
    "# Daily-to-hourly disaggregation\n",
    "hourly_disaggregation = disaggregate_rainfall(x_series, y_series)"
   ]
  },
  {
   "cell_type": "code",
   "execution_count": null,
   "metadata": {
    "tags": []
   },
   "outputs": [],
   "source": [
    "# Resampling hourly disaggregated serie to daily one\n",
    "daily_disaggregation = hourly_disaggregation.resample('D').agg(pd.Series.sum, min_count=1)\n",
    "# Calculating statistics from the disaggregated daily resample serie and for the period selected from the Input serie\n",
    "statistics_model_3 = Statistics(hiper_params_cal, time_series = x_series)\n",
    "statistics_disaggregated = Statistics(hiper_params_cal, time_series = daily_disaggregation)"
   ]
  },
  {
   "cell_type": "code",
   "execution_count": null,
   "metadata": {
    "tags": []
   },
   "outputs": [],
   "source": [
    "# Comparing daily observed statiscis with dialy dissagregated ones\n",
    "statistics_model_3.statististics_dataframe.compare(statistics_disaggregated.statististics_dataframe)"
   ]
  },
  {
   "cell_type": "code",
   "execution_count": null,
   "metadata": {
    "tags": []
   },
   "outputs": [],
   "source": [
    "# Plotting observed daily series and disaggregated ones (daily and horly) for a specific period\n",
    "t1 = str(year1) + '/02/01'; t2 = str(year1) + '/02/28'\n",
    "f = x_series.plot(xlim=(t1, t2),  ylim=(0, 20), color = 'b', style= '-', linewidth = '3', figsize = (20, 5))\n",
    "l = daily_disaggregation.plot(xlim=(t1, t2),  ylim=(0, 20), color = 'r', style = '--', ax = f)\n",
    "hourly_disaggregation.plot(xlim=(t1, t2),  ylim=(0, 20), color = 'g', style = '--o', ax = f)\n",
    "plt.legend(['Obs. (daily)', 'Disagg. (daily)', 'Disagg. (hourly)'], fontsize = 15)\n",
    "plt.grid(True)\n",
    "plt.tick_params(axis = 'both', labelsize = 15)\n",
    "plt.ylabel('mm/day', fontsize = 15);"
   ]
  },
  {
   "cell_type": "markdown",
   "metadata": {},
   "source": [
    "## Example number 3. Calibration and Simulation of hourly data"
   ]
  },
  {
   "cell_type": "markdown",
   "metadata": {},
   "source": [
    "### Loading hourly rainfall data for Sevilleta"
   ]
  },
  {
   "cell_type": "code",
   "execution_count": null,
   "metadata": {
    "collapsed": false,
    "jupyter": {
     "outputs_hidden": false
    },
    "tags": []
   },
   "outputs": [],
   "source": [
    "Serie_Sevilleta=pd.read_csv('auxiliary-materials/Sevilleta_Hourly.csv', sep=\",\", decimal=\".\", index_col=0, parse_dates = True)\n",
    "Serie_Sevilleta[Serie_Sevilleta.values<0]=np.nan\n",
    "Input_Serie=pd.DataFrame(index=Serie_Sevilleta.index)\n",
    "Input_Serie['Rain']=Serie_Sevilleta.values"
   ]
  },
  {
   "cell_type": "markdown",
   "metadata": {},
   "source": [
    "### Plotting hourly data and seasonality"
   ]
  },
  {
   "cell_type": "code",
   "execution_count": null,
   "metadata": {
    "collapsed": false,
    "jupyter": {
     "outputs_hidden": false
    },
    "tags": []
   },
   "outputs": [],
   "source": [
    "f, (ax0, ax1) = plt.subplots(1, 2, gridspec_kw={'width_ratios': [3, 1]}, figsize=(20, 5))\n",
    "\n",
    "t1=str(Input_Serie.index.year[0]); t2=str(Input_Serie.index.year[-1])\n",
    "Input_Serie.plot(xlim=(t1, t2),  ylim=(0, 20), ax = ax0)\n",
    "ax0.grid(True)\n",
    "ax0.set_ylabel('mm/hour')\n",
    "\n",
    "grouped_m = Input_Serie.groupby(lambda x: x.month)\n",
    "Month_sum=grouped_m.sum()*24/(len(Input_Serie>=0)/30)\n",
    "Month_sum.plot(ax = ax1)\n",
    "ax1.grid(True)\n",
    "ax1.set_ylabel('mm/month')"
   ]
  },
  {
   "cell_type": "markdown",
   "metadata": {},
   "source": [
    "### Calibration"
   ]
  },
  {
   "cell_type": "code",
   "execution_count": null,
   "metadata": {
    "tags": []
   },
   "outputs": [],
   "source": [
    "hiper_params_cal = Calhps('./Input_Cal_Sevilleta.yml')\n",
    "statistics_model_1 = Statistics(hiper_params_cal, time_series = Input_Serie)"
   ]
  },
  {
   "cell_type": "code",
   "execution_count": null,
   "metadata": {
    "scrolled": true,
    "tags": []
   },
   "outputs": [],
   "source": [
    "CAL              = Calibration(hiper_params_cal) \n",
    "CAL1             = CAL(statistics_model_1, verbose=False)\n",
    "\n",
    "CAL1.save_files('./CAL1/')"
   ]
  },
  {
   "cell_type": "markdown",
   "metadata": {},
   "source": [
    "### Simulation"
   ]
  },
  {
   "cell_type": "code",
   "execution_count": null,
   "metadata": {},
   "outputs": [],
   "source": [
    "hiper_params_sim = Simhps('./Input_Sim_Sevilleta.yml')\n",
    "\n",
    "SIM              = Simulation(hiper_params_sim) \n",
    "SIM1             = SIM(params_cal = CAL1)\n",
    "#SIM2             = SIM(params_cal = './CAL2/Calibrated_parameters.csv')"
   ]
  },
  {
   "cell_type": "code",
   "execution_count": null,
   "metadata": {},
   "outputs": [],
   "source": [
    "SIM1.save_files('./SIM1/')"
   ]
  },
  {
   "cell_type": "markdown",
   "metadata": {},
   "source": [
    "### Validation"
   ]
  },
  {
   "cell_type": "code",
   "execution_count": null,
   "metadata": {},
   "outputs": [],
   "source": [
    "# Comparing the values of the statistcs (observed, fitted and simulated).\n",
    "compare_statistics(CAL1, SIM1)"
   ]
  },
  {
   "cell_type": "code",
   "execution_count": null,
   "metadata": {},
   "outputs": [],
   "source": [
    "# Comparing exceedence Probability betwen Observed and Simulated series\n",
    "exceedence_probability(Input_Serie, SIM1.Hourly_Simulation, SIM1.temporal_resolution)"
   ]
  },
  {
   "cell_type": "markdown",
   "metadata": {},
   "source": [
    "## Session info"
   ]
  },
  {
   "cell_type": "code",
   "execution_count": null,
   "metadata": {},
   "outputs": [],
   "source": [
    "!conda list"
   ]
  },
  {
   "cell_type": "code",
   "execution_count": null,
   "metadata": {},
   "outputs": [],
   "source": []
  }
 ],
 "metadata": {
  "kernelspec": {
   "display_name": "Python [conda env:sml]",
   "language": "python",
   "name": "conda-env-sml-py"
  },
  "language_info": {
   "codemirror_mode": {
    "name": "ipython",
    "version": 3
   },
   "file_extension": ".py",
   "mimetype": "text/x-python",
   "name": "python",
   "nbconvert_exporter": "python",
   "pygments_lexer": "ipython3",
   "version": "3.9.6"
  }
 },
 "nbformat": 4,
 "nbformat_minor": 4
}
