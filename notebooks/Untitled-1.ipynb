{
 "cells": [
  {
   "cell_type": "code",
   "execution_count": 39,
   "metadata": {},
   "outputs": [],
   "source": [
    "import pandas as pd\n",
    "import numpy as np"
   ]
  },
  {
   "cell_type": "code",
   "execution_count": 40,
   "metadata": {},
   "outputs": [],
   "source": [
    "import numpy as np\n",
    "\n",
    "def generate_grid(lat_min, lat_max, lon_min, lon_max, cell_size):\n",
    "    lat_steps = int((lat_max - lat_min) / (cell_size / 111.32))\n",
    "    lon_steps = int((lon_max - lon_min) / (cell_size / (111.32 * np.cos(np.radians(lat_min)))))\n",
    "    \n",
    "    lat_grid = np.linspace(lat_min, lat_max, lat_steps)\n",
    "    lon_grid = np.linspace(lon_min, lon_max, lon_steps)\n",
    "    \n",
    "    lon_grid, lat_grid = np.meshgrid(lon_grid, lat_grid)\n",
    "    return lat_grid, lon_grid\n"
   ]
  },
  {
   "cell_type": "code",
   "execution_count": 41,
   "metadata": {},
   "outputs": [],
   "source": [
    "# Parámetros de la rejilla\n",
    "lat_min = 43.125\n",
    "lat_max = 43.425\n",
    "lon_min = -3.725\n",
    "lon_max = -3.25\n",
    "cell_size = 4  # Tamaño de la celda en km\n",
    "\n",
    "# Generar la rejilla\n",
    "lat_grid, lon_grid = generate_grid(lat_min, lat_max, lon_min, lon_max, cell_size)\n",
    "lon_lat_vector = np.column_stack((lon_grid.ravel(),lat_grid.ravel()))"
   ]
  },
  {
   "cell_type": "code",
   "execution_count": 46,
   "metadata": {},
   "outputs": [],
   "source": [
    "data = pd.DataFrame(lon_lat_vector,columns=['Longitud','Latitud'],index=[f'Pluviómetro_{i+1}' for i in range(len(lon_lat_vector))])\n",
    "data.to_csv('E:/GitHub/NEOPRENE/notebooks/Gaussian_Processes/Attributes.csv')"
   ]
  },
  {
   "cell_type": "code",
   "execution_count": null,
   "metadata": {},
   "outputs": [],
   "source": [
    "import numpy as np\n",
    "import pandas as pd\n",
    "\n",
    "# Cargar el archivo original\n",
    "file_path = 'E:/GitHub/NEOPRENE/notebooks/POINT_SPATIAL_DAILY/CAL1/xi_months.csv'\n",
    "data = pd.read_csv(file_path)\n",
    "\n",
    "# Crear un nuevo DataFrame con 5082 columnas\n",
    "num_new_columns = len(lon_lat_vector) - data.shape[1]  # Columnas adicionales necesarias\n",
    "base_columns = data.columns.tolist()[1:]  # Excluir la columna de índice\n",
    "new_columns = base_columns * (num_new_columns // len(base_columns)) + base_columns[:num_new_columns % len(base_columns)]\n",
    "\n",
    "# Generar nombres únicos para las nuevas columnas\n",
    "new_columns = [f'Pluviómetro_{i+1}' for i in range(len(lon_lat_vector))]  # Excluyendo la columna de índice\n",
    "\n",
    "# Crear un nuevo DataFrame con las nuevas columnas\n",
    "new_data_values = np.tile(data.values[:, 1:], (1, (len(lon_lat_vector) // (data.shape[1] - 1)) + 1))[:, :len(lon_lat_vector)]\n",
    "\n",
    "# Convertir a DataFrame y asignar nombres de columnas\n",
    "new_data = pd.DataFrame(new_data_values, columns=new_columns)\n",
    "new_data.insert(0, 'Index', data['Index'])\n",
    "\n",
    "# Guardar el nuevo DataFrame en un archivo CSV\n",
    "new_file_path = 'E:/GitHub/NEOPRENE/notebooks/xi_months_expanded.csv'\n",
    "new_data.to_csv(new_file_path, index=False)"
   ]
  },
  {
   "cell_type": "code",
   "execution_count": 24,
   "metadata": {},
   "outputs": [
    {
     "ename": "ValueError",
     "evalue": "The theoretical Variogram function best is not understood, please provide the function",
     "output_type": "error",
     "traceback": [
      "\u001b[1;31m---------------------------------------------------------------------------\u001b[0m",
      "\u001b[1;31mValueError\u001b[0m                                Traceback (most recent call last)",
      "Cell \u001b[1;32mIn[24], line 23\u001b[0m\n\u001b[0;32m     20\u001b[0m values \u001b[38;5;241m=\u001b[39m data[\u001b[38;5;124m'\u001b[39m\u001b[38;5;124mz\u001b[39m\u001b[38;5;124m'\u001b[39m]\u001b[38;5;241m.\u001b[39mvalues\n\u001b[0;32m     22\u001b[0m \u001b[38;5;66;03m# Calcular el semivariograma y ajustar automáticamente el mejor modelo\u001b[39;00m\n\u001b[1;32m---> 23\u001b[0m V \u001b[38;5;241m=\u001b[39m \u001b[43mVariogram\u001b[49m\u001b[43m(\u001b[49m\u001b[43mcoords\u001b[49m\u001b[43m,\u001b[49m\u001b[43m \u001b[49m\u001b[43mvalues\u001b[49m\u001b[43m,\u001b[49m\u001b[43mmodel\u001b[49m\u001b[38;5;241;43m=\u001b[39;49m\u001b[38;5;124;43m'\u001b[39;49m\u001b[38;5;124;43mbest\u001b[39;49m\u001b[38;5;124;43m'\u001b[39;49m\u001b[43m)\u001b[49m\n\u001b[0;32m     25\u001b[0m \u001b[38;5;66;03m# Ajustar automáticamente el modelo del semivariograma\u001b[39;00m\n\u001b[0;32m     26\u001b[0m V\u001b[38;5;241m.\u001b[39mfit()\n",
      "File \u001b[1;32mc:\\Anaconda3\\envs\\NEOPRENE_2024\\Lib\\site-packages\\skgstat\\Variogram.py:371\u001b[0m, in \u001b[0;36mVariogram.__init__\u001b[1;34m(self, coordinates, values, estimator, model, dist_func, bin_func, normalize, fit_method, fit_sigma, use_nugget, maxlag, samples, n_lags, verbose, **kwargs)\u001b[0m\n\u001b[0;32m    369\u001b[0m \u001b[38;5;28mself\u001b[39m\u001b[38;5;241m.\u001b[39m_model_name \u001b[38;5;241m=\u001b[39m \u001b[38;5;28;01mNone\u001b[39;00m\n\u001b[0;32m    370\u001b[0m \u001b[38;5;28mself\u001b[39m\u001b[38;5;241m.\u001b[39m_is_model_custom \u001b[38;5;241m=\u001b[39m \u001b[38;5;28;01mFalse\u001b[39;00m\n\u001b[1;32m--> 371\u001b[0m \u001b[38;5;28;43mself\u001b[39;49m\u001b[38;5;241;43m.\u001b[39;49m\u001b[43mset_model\u001b[49m\u001b[43m(\u001b[49m\u001b[43mmodel_name\u001b[49m\u001b[38;5;241;43m=\u001b[39;49m\u001b[43mmodel\u001b[49m\u001b[43m)\u001b[49m\n\u001b[0;32m    373\u001b[0m \u001b[38;5;66;03m# specify if the lag should be given absolute or relative to the maxlag\u001b[39;00m\n\u001b[0;32m    374\u001b[0m \u001b[38;5;28mself\u001b[39m\u001b[38;5;241m.\u001b[39m_normalized \u001b[38;5;241m=\u001b[39m normalize\n",
      "File \u001b[1;32mc:\\Anaconda3\\envs\\NEOPRENE_2024\\Lib\\site-packages\\skgstat\\Variogram.py:1005\u001b[0m, in \u001b[0;36mVariogram.set_model\u001b[1;34m(self, model_name)\u001b[0m\n\u001b[0;32m   1003\u001b[0m     \u001b[38;5;28mself\u001b[39m\u001b[38;5;241m.\u001b[39m_model \u001b[38;5;241m=\u001b[39m \u001b[38;5;28mgetattr\u001b[39m(models, mname)\n\u001b[0;32m   1004\u001b[0m \u001b[38;5;28;01melse\u001b[39;00m:\n\u001b[1;32m-> 1005\u001b[0m     \u001b[38;5;28;01mraise\u001b[39;00m \u001b[38;5;167;01mValueError\u001b[39;00m(\n\u001b[0;32m   1006\u001b[0m         (\n\u001b[0;32m   1007\u001b[0m             \u001b[38;5;124m'\u001b[39m\u001b[38;5;124mThe theoretical Variogram function \u001b[39m\u001b[38;5;132;01m%s\u001b[39;00m\u001b[38;5;124m is not\u001b[39m\u001b[38;5;124m'\u001b[39m\n\u001b[0;32m   1008\u001b[0m             \u001b[38;5;124m'\u001b[39m\u001b[38;5;124m understood, please provide the function\u001b[39m\u001b[38;5;124m'\u001b[39m\n\u001b[0;32m   1009\u001b[0m         ) \u001b[38;5;241m%\u001b[39m model_name\n\u001b[0;32m   1010\u001b[0m     )\n\u001b[0;32m   1011\u001b[0m \u001b[38;5;66;03m# Set model name attribute\u001b[39;00m\n\u001b[0;32m   1012\u001b[0m \u001b[38;5;28mself\u001b[39m\u001b[38;5;241m.\u001b[39m_model_name \u001b[38;5;241m=\u001b[39m mname\n",
      "\u001b[1;31mValueError\u001b[0m: The theoretical Variogram function best is not understood, please provide the function"
     ]
    }
   ],
   "source": [
    "import numpy as np\n",
    "import pandas as pd\n",
    "import matplotlib.pyplot as plt\n",
    "from skgstat import Variogram\n",
    "from skgstat import models\n",
    "from pykrige.ok import OrdinaryKriging\n",
    "\n",
    "# Datos de ejemplo\n",
    "np.random.seed(42)\n",
    "n = 100  # número de puntos\n",
    "x = np.random.uniform(0, 10, n)\n",
    "y = np.random.uniform(0, 10, n)\n",
    "z = np.random.uniform(0, 10, n)\n",
    "\n",
    "# Crear DataFrame con los datos\n",
    "data = pd.DataFrame({'x': x, 'y': y, 'z': z})\n",
    "\n",
    "# Crear y ajustar el semivariograma\n",
    "coords = data[['x', 'y']].values\n",
    "values = data['z'].values\n",
    "\n",
    "# Calcular el semivariograma y ajustar automáticamente el mejor modelo\n",
    "V = Variogram(coords, values, normalize=False, maxlag=10)\n",
    "\n",
    "# Ajustar automáticamente el modelo del semivariograma\n",
    "V.fit()\n",
    "best_model = V.model\n",
    "\n",
    "print(f\"Mejor modelo de semivariograma: {best_model}\")\n",
    "\n",
    "# Realizar la interpolación Kriging\n",
    "gridx = np.linspace(0, 10, 100)\n",
    "gridy = np.linspace(0, 10, 100)\n",
    "ok = OrdinaryKriging(x, y, z, variogram_model=best_model.__name__.lower())\n",
    "z_kriged, ss = ok.execute('grid', gridx, gridy)\n",
    "\n",
    "# Graficar el resultado\n",
    "plt.imshow(z_kriged, origin='lower', extent=(0, 10, 0, 10))\n",
    "plt.title('Interpolación Kriging')\n",
    "plt.colorbar(label='z')\n",
    "plt.show()\n"
   ]
  },
  {
   "cell_type": "code",
   "execution_count": 23,
   "metadata": {},
   "outputs": [
    {
     "data": {
      "text/plain": [
       "<function skgstat.models.spherical(h, r, c0, b=0.0)>"
      ]
     },
     "execution_count": 23,
     "metadata": {},
     "output_type": "execute_result"
    }
   ],
   "source": [
    "best_model"
   ]
  },
  {
   "cell_type": "code",
   "execution_count": null,
   "metadata": {},
   "outputs": [],
   "source": []
  }
 ],
 "metadata": {
  "language_info": {
   "name": "python"
  }
 },
 "nbformat": 4,
 "nbformat_minor": 2
}
